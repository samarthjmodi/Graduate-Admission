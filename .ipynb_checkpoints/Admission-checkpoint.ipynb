{
 "cells": [
  {
   "cell_type": "code",
   "execution_count": 1,
   "metadata": {
    "colab": {},
    "colab_type": "code",
    "collapsed": true,
    "id": "OGRIP_6-2JJ8"
   },
   "outputs": [],
   "source": [
    "import numpy as np\n",
    "import pandas as pd\n",
    "import csv\n",
    "from sklearn.linear_model import LinearRegression"
   ]
  },
  {
   "cell_type": "code",
   "execution_count": 2,
   "metadata": {
    "colab": {
     "base_uri": "https://localhost:8080/",
     "height": 375
    },
    "colab_type": "code",
    "id": "MHHq9iJc2bQy",
    "outputId": "6a0d49b3-d14e-4ca8-c333-9467cd15007e"
   },
   "outputs": [],
   "source": [
    "df = pd.read_csv(\"Admission_Predict.csv\")\n"
   ]
  },
  {
   "cell_type": "code",
   "execution_count": 3,
   "metadata": {
    "colab": {},
    "colab_type": "code",
    "collapsed": true,
    "id": "8Z9NYxK32ja7"
   },
   "outputs": [],
   "source": [
    "X = df.iloc[:,1:-1]\n",
    "Y = df.iloc[:,-1]\n",
    "\n",
    "reg = LinearRegression().fit(X, Y)\n"
   ]
  },
  {
   "cell_type": "code",
   "execution_count": null,
   "metadata": {
    "colab": {
     "base_uri": "https://localhost:8080/",
     "height": 204
    },
    "colab_type": "code",
    "id": "Kt-zdSeB5KBf",
    "outputId": "798eccc0-2707-4c42-d213-71c1aef90bb2"
   },
   "outputs": [
    {
     "name": "stdout",
     "output_type": "stream",
     "text": [
      "Enter GRE Score: 327\n",
      "Enter TOEFL Score: 107\n",
      "Enter University Rating: 9\n"
     ]
    }
   ],
   "source": [
    "l = []\n",
    "for c in X.columns:\n",
    "    a = input(\"Enter \"+c+\": \")\n",
    "    l.append(a)\n",
    "    \n",
    "nl = [l]\n",
    "print(nl)\n",
    "ndf = pd.DataFrame(nl,columns = [\"GRE Score\",\"TOEFL Score\",\"University Rating\",\"SOP\",\"LOR\",\"CGPA\",\"Research\"])\n",
    "print(ndf)\n",
    "\n",
    "y_pred = reg.predict(ndf)\n",
    "print(y_pred)"
   ]
  },
  {
   "cell_type": "code",
   "execution_count": 0,
   "metadata": {
    "colab": {
     "base_uri": "https://localhost:8080/",
     "height": 204
    },
    "colab_type": "code",
    "id": "L9INm_YS6g0Z",
    "outputId": "8825f93a-1e49-4b54-84b6-76a71cc9a7f0"
   },
   "outputs": [
    {
     "name": "stdout",
     "output_type": "stream",
     "text": [
      "Enter GRE Score: 318\n",
      "Enter TOEFL Score: 104\n",
      "Enter University Rating: 4\n",
      "Enter SOP: 4\n",
      "Enter LOR: 4\n",
      "Enter CGPA: 9\n",
      "Enter Research: 1\n",
      "[['318', '104', '4', '4', '4', '9', '1']]\n",
      "  GRE Score TOEFL Score University Rating SOP LOR CGPA Research\n",
      "0       318         104                 4   4   4    9        1\n",
      "[0.79073904]\n"
     ]
    }
   ],
   "source": [
    "l = []\n",
    "for c in ndf.columns:\n",
    "    a = input(\"Enter \"+c+\": \")\n",
    "    l.append(a)\n",
    "    \n",
    "nl = [l]\n",
    "print(nl)\n",
    "ndf = pd.DataFrame(nl,columns = [\"GRE Score\",\"TOEFL Score\",\"University Rating\",\"SOP\",\"LOR\",\"CGPA\",\"Research\"])\n",
    "print(ndf)\n",
    "\n",
    "y_pred = reg.predict(ndf)\n",
    "print(y_pred)"
   ]
  }
 ],
 "metadata": {
  "colab": {
   "name": "Admission.ipynb",
   "provenance": [],
   "version": "0.3.2"
  },
  "kernelspec": {
   "display_name": "Python 3",
   "language": "python",
   "name": "python3"
  },
  "language_info": {
   "codemirror_mode": {
    "name": "ipython",
    "version": 3
   },
   "file_extension": ".py",
   "mimetype": "text/x-python",
   "name": "python",
   "nbconvert_exporter": "python",
   "pygments_lexer": "ipython3",
   "version": "3.6.3"
  }
 },
 "nbformat": 4,
 "nbformat_minor": 1
}
